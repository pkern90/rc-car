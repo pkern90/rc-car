{
 "cells": [
  {
   "cell_type": "code",
   "execution_count": 1,
   "metadata": {
    "collapsed": true
   },
   "outputs": [],
   "source": [
    "import numpy as np\n",
    "import matplotlib.pyplot as plt\n",
    "from glob import glob\n",
    "from skimage.io import imread\n",
    "from os import path\n",
    "import os\n",
    "import pandas as pd\n",
    "\n",
    "import seaborn as sns; sns.set(color_codes=True)\n",
    "\n",
    "%matplotlib inline"
   ]
  },
  {
   "cell_type": "markdown",
   "metadata": {},
   "source": [
    "# Data"
   ]
  },
  {
   "cell_type": "code",
   "execution_count": 2,
   "metadata": {
    "collapsed": true
   },
   "outputs": [],
   "source": [
    "model_dir = path.join(\"models\", \"model1\")\n",
    "log_dir = path.join(\"data\", \"rec01\")\n",
    "img_dir = path.join(log_dir, \"img\")\n",
    "\n",
    "img_w, img_h, img_ch = 320, 240, 1"
   ]
  },
  {
   "cell_type": "code",
   "execution_count": 3,
   "metadata": {
    "collapsed": false
   },
   "outputs": [],
   "source": [
    "drv_log = pd.read_csv(path.join(log_dir, \"log.csv\"), names=['img', 'speed', 'steer'])"
   ]
  },
  {
   "cell_type": "code",
   "execution_count": 4,
   "metadata": {
    "collapsed": false
   },
   "outputs": [
    {
     "data": {
      "text/html": [
       "<div>\n",
       "<style>\n",
       "    .dataframe thead tr:only-child th {\n",
       "        text-align: right;\n",
       "    }\n",
       "\n",
       "    .dataframe thead th {\n",
       "        text-align: left;\n",
       "    }\n",
       "\n",
       "    .dataframe tbody tr th {\n",
       "        vertical-align: top;\n",
       "    }\n",
       "</style>\n",
       "<table border=\"1\" class=\"dataframe\">\n",
       "  <thead>\n",
       "    <tr style=\"text-align: right;\">\n",
       "      <th></th>\n",
       "      <th>img</th>\n",
       "      <th>speed</th>\n",
       "      <th>steer</th>\n",
       "    </tr>\n",
       "  </thead>\n",
       "  <tbody>\n",
       "    <tr>\n",
       "      <th>0</th>\n",
       "      <td>img_20170725_13_00_46_397840Z.jpg</td>\n",
       "      <td>100</td>\n",
       "      <td>0.070193</td>\n",
       "    </tr>\n",
       "    <tr>\n",
       "      <th>1</th>\n",
       "      <td>img_20170725_13_00_46_436273Z.jpg</td>\n",
       "      <td>100</td>\n",
       "      <td>0.070193</td>\n",
       "    </tr>\n",
       "    <tr>\n",
       "      <th>2</th>\n",
       "      <td>img_20170725_13_00_46_473557Z.jpg</td>\n",
       "      <td>100</td>\n",
       "      <td>-0.011780</td>\n",
       "    </tr>\n",
       "    <tr>\n",
       "      <th>3</th>\n",
       "      <td>img_20170725_13_00_46_513400Z.jpg</td>\n",
       "      <td>100</td>\n",
       "      <td>-0.640675</td>\n",
       "    </tr>\n",
       "    <tr>\n",
       "      <th>4</th>\n",
       "      <td>img_20170725_13_00_46_553304Z.jpg</td>\n",
       "      <td>100</td>\n",
       "      <td>-0.132878</td>\n",
       "    </tr>\n",
       "  </tbody>\n",
       "</table>\n",
       "</div>"
      ],
      "text/plain": [
       "                                 img  speed     steer\n",
       "0  img_20170725_13_00_46_397840Z.jpg    100  0.070193\n",
       "1  img_20170725_13_00_46_436273Z.jpg    100  0.070193\n",
       "2  img_20170725_13_00_46_473557Z.jpg    100 -0.011780\n",
       "3  img_20170725_13_00_46_513400Z.jpg    100 -0.640675\n",
       "4  img_20170725_13_00_46_553304Z.jpg    100 -0.132878"
      ]
     },
     "execution_count": 4,
     "metadata": {},
     "output_type": "execute_result"
    }
   ],
   "source": [
    "drv_log.head()"
   ]
  },
  {
   "cell_type": "code",
   "execution_count": 5,
   "metadata": {
    "collapsed": false
   },
   "outputs": [
    {
     "name": "stdout",
     "output_type": "stream",
     "text": [
      "<class 'pandas.core.frame.DataFrame'>\n",
      "RangeIndex: 196 entries, 0 to 195\n",
      "Data columns (total 3 columns):\n",
      "img      196 non-null object\n",
      "speed    196 non-null int64\n",
      "steer    196 non-null float64\n",
      "dtypes: float64(1), int64(1), object(1)\n",
      "memory usage: 4.7+ KB\n"
     ]
    }
   ],
   "source": [
    "drv_log.info()"
   ]
  },
  {
   "cell_type": "code",
   "execution_count": 6,
   "metadata": {
    "collapsed": false
   },
   "outputs": [
    {
     "data": {
      "text/html": [
       "<div>\n",
       "<style>\n",
       "    .dataframe thead tr:only-child th {\n",
       "        text-align: right;\n",
       "    }\n",
       "\n",
       "    .dataframe thead th {\n",
       "        text-align: left;\n",
       "    }\n",
       "\n",
       "    .dataframe tbody tr th {\n",
       "        vertical-align: top;\n",
       "    }\n",
       "</style>\n",
       "<table border=\"1\" class=\"dataframe\">\n",
       "  <thead>\n",
       "    <tr style=\"text-align: right;\">\n",
       "      <th></th>\n",
       "      <th>speed</th>\n",
       "      <th>steer</th>\n",
       "    </tr>\n",
       "  </thead>\n",
       "  <tbody>\n",
       "    <tr>\n",
       "      <th>count</th>\n",
       "      <td>196.0</td>\n",
       "      <td>196.000000</td>\n",
       "    </tr>\n",
       "    <tr>\n",
       "      <th>mean</th>\n",
       "      <td>100.0</td>\n",
       "      <td>0.271016</td>\n",
       "    </tr>\n",
       "    <tr>\n",
       "      <th>std</th>\n",
       "      <td>0.0</td>\n",
       "      <td>0.560342</td>\n",
       "    </tr>\n",
       "    <tr>\n",
       "      <th>min</th>\n",
       "      <td>100.0</td>\n",
       "      <td>-1.000031</td>\n",
       "    </tr>\n",
       "    <tr>\n",
       "      <th>25%</th>\n",
       "      <td>100.0</td>\n",
       "      <td>-0.003967</td>\n",
       "    </tr>\n",
       "    <tr>\n",
       "      <th>50%</th>\n",
       "      <td>100.0</td>\n",
       "      <td>0.042848</td>\n",
       "    </tr>\n",
       "    <tr>\n",
       "      <th>75%</th>\n",
       "      <td>100.0</td>\n",
       "      <td>1.000000</td>\n",
       "    </tr>\n",
       "    <tr>\n",
       "      <th>max</th>\n",
       "      <td>100.0</td>\n",
       "      <td>1.000000</td>\n",
       "    </tr>\n",
       "  </tbody>\n",
       "</table>\n",
       "</div>"
      ],
      "text/plain": [
       "       speed       steer\n",
       "count  196.0  196.000000\n",
       "mean   100.0    0.271016\n",
       "std      0.0    0.560342\n",
       "min    100.0   -1.000031\n",
       "25%    100.0   -0.003967\n",
       "50%    100.0    0.042848\n",
       "75%    100.0    1.000000\n",
       "max    100.0    1.000000"
      ]
     },
     "execution_count": 6,
     "metadata": {},
     "output_type": "execute_result"
    }
   ],
   "source": [
    "drv_log.describe()"
   ]
  },
  {
   "cell_type": "code",
   "execution_count": 7,
   "metadata": {
    "collapsed": false
   },
   "outputs": [
    {
     "data": {
      "image/png": "[encoded data removed]",
      "text/plain": [
       "<matplotlib.figure.Figure at 0x7f00e8cb1780>"
      ]
     },
     "metadata": {},
     "output_type": "display_data"
    }
   ],
   "source": [
    "ax = sns.kdeplot(drv_log['steer'], shade=True, color=\"r\")"
   ]
  },
  {
   "cell_type": "code",
   "execution_count": 8,
   "metadata": {
    "collapsed": false
   },
   "outputs": [],
   "source": [
    "images = np.zeros((len(drv_log), img_h, img_w, img_ch))\n",
    "for i, img_name in enumerate(drv_log['img']):\n",
    "    img = imread(path.join(img_dir, img_name), as_grey=True)\n",
    "    images[i] = np.expand_dims(img, -1)"
   ]
  },
  {
   "cell_type": "code",
   "execution_count": 9,
   "metadata": {
    "collapsed": false
   },
   "outputs": [
    {
     "data": {
      "text/plain": [
       "<matplotlib.image.AxesImage at 0x7f00ac9af5f8>"
      ]
     },
     "execution_count": 9,
     "metadata": {},
     "output_type": "execute_result"
    },
    {
     "data": {
      "image/png": "[encoded data removed]",
      "text/plain": [
       "<matplotlib.figure.Figure at 0x7f00b3dd9908>"
      ]
     },
     "metadata": {},
     "output_type": "display_data"
    }
   ],
   "source": [
    "plt.imshow(images[0,:,::-1,0], cmap='gray')"
   ]
  },
  {
   "cell_type": "markdown",
   "metadata": {},
   "source": [
    "# Model"
   ]
  },
  {
   "cell_type": "code",
   "execution_count": 10,
   "metadata": {
    "collapsed": false,
    "scrolled": true
   },
   "outputs": [
    {
     "name": "stderr",
     "output_type": "stream",
     "text": [
      "Using TensorFlow backend.\n"
     ]
    }
   ],
   "source": [
    "from keras.models import Sequential\n",
    "from keras.layers import Lambda, Input, Dense, Conv2D, ELU, Activation, BatchNormalization, Dropout, Flatten\n",
    "from keras.optimizers import Adam\n",
    "from keras.preprocessing.image import ImageDataGenerator\n",
    "from keras_tqdm import TQDMNotebookCallback\n",
    "from utils import RegressionImageDataGenerator"
   ]
  },
  {
   "cell_type": "code",
   "execution_count": 11,
   "metadata": {
    "collapsed": false
   },
   "outputs": [],
   "source": [
    "model = Sequential([\n",
    "    Conv2D(16, 8, strides=(4, 4), padding=\"same\", input_shape=(img_h, img_w, img_ch)),\n",
    "    BatchNormalization(),\n",
    "    Activation('relu'),\n",
    "    Conv2D(32, 3, padding=\"same\"),\n",
    "    BatchNormalization(),\n",
    "    Activation('relu'),\n",
    "    Conv2D(32, 3, strides=(2, 2), padding=\"same\"),\n",
    "    BatchNormalization(),\n",
    "    Activation('relu'),\n",
    "    Conv2D(64, 3, padding=\"same\"),\n",
    "    BatchNormalization(),\n",
    "    Activation('relu'),\n",
    "    Conv2D(64, 3, strides=(2, 2), padding=\"same\"),\n",
    "    BatchNormalization(),\n",
    "    Conv2D(128, 3, padding=\"same\"),\n",
    "    BatchNormalization(),\n",
    "    Activation('relu'),\n",
    "    Conv2D(128, 3, strides=(2, 2), padding=\"same\"),\n",
    "    BatchNormalization(),\n",
    "    Activation('relu'),\n",
    "    \n",
    "    Flatten(),\n",
    "    Dropout(0.2),\n",
    "    Dense(1024),\n",
    "    BatchNormalization(),\n",
    "    Activation('relu'),\n",
    "    Dropout(0.2),\n",
    "    Dense(512),\n",
    "    BatchNormalization(),\n",
    "    Activation('relu'),\n",
    "    Dropout(0.5),\n",
    "    Dense(1, activation='tanh')\n",
    "])\n",
    "\n",
    "opt = Adam(lr=0.0001)\n",
    "model.compile(optimizer=opt, loss=\"mse\")"
   ]
  },
  {
   "cell_type": "code",
   "execution_count": 12,
   "metadata": {
    "collapsed": false,
    "scrolled": true
   },
   "outputs": [
    {
     "name": "stdout",
     "output_type": "stream",
     "text": [
      "_________________________________________________________________\n",
      "Layer (type)                 Output Shape              Param #   \n",
      "=================================================================\n",
      "conv2d_1 (Conv2D)            (None, 60, 80, 16)        1040      \n",
      "_________________________________________________________________\n",
      "batch_normalization_1 (Batch (None, 60, 80, 16)        64        \n",
      "_________________________________________________________________\n",
      "activation_1 (Activation)    (None, 60, 80, 16)        0         \n",
      "_________________________________________________________________\n",
      "conv2d_2 (Conv2D)            (None, 60, 80, 32)        4640      \n",
      "_________________________________________________________________\n",
      "batch_normalization_2 (Batch (None, 60, 80, 32)        128       \n",
      "_________________________________________________________________\n",
      "activation_2 (Activation)    (None, 60, 80, 32)        0         \n",
      "_________________________________________________________________\n",
      "conv2d_3 (Conv2D)            (None, 30, 40, 32)        9248      \n",
      "_________________________________________________________________\n",
      "batch_normalization_3 (Batch (None, 30, 40, 32)        128       \n",
      "_________________________________________________________________\n",
      "activation_3 (Activation)    (None, 30, 40, 32)        0         \n",
      "_________________________________________________________________\n",
      "conv2d_4 (Conv2D)            (None, 30, 40, 64)        18496     \n",
      "_________________________________________________________________\n",
      "batch_normalization_4 (Batch (None, 30, 40, 64)        256       \n",
      "_________________________________________________________________\n",
      "activation_4 (Activation)    (None, 30, 40, 64)        0         \n",
      "_________________________________________________________________\n",
      "conv2d_5 (Conv2D)            (None, 15, 20, 64)        36928     \n",
      "_________________________________________________________________\n",
      "batch_normalization_5 (Batch (None, 15, 20, 64)        256       \n",
      "_________________________________________________________________\n",
      "conv2d_6 (Conv2D)            (None, 15, 20, 128)       73856     \n",
      "_________________________________________________________________\n",
      "batch_normalization_6 (Batch (None, 15, 20, 128)       512       \n",
      "_________________________________________________________________\n",
      "activation_5 (Activation)    (None, 15, 20, 128)       0         \n",
      "_________________________________________________________________\n",
      "conv2d_7 (Conv2D)            (None, 8, 10, 128)        147584    \n",
      "_________________________________________________________________\n",
      "batch_normalization_7 (Batch (None, 8, 10, 128)        512       \n",
      "_________________________________________________________________\n",
      "activation_6 (Activation)    (None, 8, 10, 128)        0         \n",
      "_________________________________________________________________\n",
      "flatten_1 (Flatten)          (None, 10240)             0         \n",
      "_________________________________________________________________\n",
      "dropout_1 (Dropout)          (None, 10240)             0         \n",
      "_________________________________________________________________\n",
      "dense_1 (Dense)              (None, 1024)              10486784  \n",
      "_________________________________________________________________\n",
      "batch_normalization_8 (Batch (None, 1024)              4096      \n",
      "_________________________________________________________________\n",
      "activation_7 (Activation)    (None, 1024)              0         \n",
      "_________________________________________________________________\n",
      "dropout_2 (Dropout)          (None, 1024)              0         \n",
      "_________________________________________________________________\n",
      "dense_2 (Dense)              (None, 512)               524800    \n",
      "_________________________________________________________________\n",
      "batch_normalization_9 (Batch (None, 512)               2048      \n",
      "_________________________________________________________________\n",
      "activation_8 (Activation)    (None, 512)               0         \n",
      "_________________________________________________________________\n",
      "dropout_3 (Dropout)          (None, 512)               0         \n",
      "_________________________________________________________________\n",
      "dense_3 (Dense)              (None, 1)                 513       \n",
      "=================================================================\n",
      "Total params: 11,311,889\n",
      "Trainable params: 11,307,889\n",
      "Non-trainable params: 4,000\n",
      "_________________________________________________________________\n"
     ]
    }
   ],
   "source": [
    "model.summary()"
   ]
  },
  {
   "cell_type": "code",
   "execution_count": 13,
   "metadata": {
    "collapsed": true
   },
   "outputs": [],
   "source": [
    "SHIFT_OFFSET = 0.2\n",
    "SHIFT_RANGE = 0.2\n",
    "\n",
    "datagen = RegressionImageDataGenerator(horizontal_flip=True,\n",
    "                                       horizontal_flip_value_transform=lambda val: -val,\n",
    "                                       #channel_shift_range=0.2,\n",
    "                                       #width_shift_range=SHIFT_RANGE,\n",
    "                                       #width_shift_value_transform=lambda val, shift: val - (\n",
    "                                       #    (SHIFT_OFFSET / SHIFT_RANGE) * shift),\n",
    "                                       )"
   ]
  },
  {
   "cell_type": "code",
   "execution_count": null,
   "metadata": {
    "collapsed": true
   },
   "outputs": [],
   "source": [
    "x_train = images * 2 - 1\n",
    "train_flow = datagen.flow(x_train, drv_log['steer'], batch_size=32)"
   ]
  },
  {
   "cell_type": "code",
   "execution_count": null,
   "metadata": {
    "collapsed": false,
    "scrolled": true
   },
   "outputs": [],
   "source": [
    "hist = model.fit_generator(train_flow, steps_per_epoch=train_flow.n,\n",
    "                           epochs=20, verbose=0, workers=4,\n",
    "                           callbacks=[TQDMNotebookCallback()])"
   ]
  },
  {
   "cell_type": "code",
   "execution_count": null,
   "metadata": {
    "collapsed": false,
    "scrolled": true
   },
   "outputs": [],
   "source": [
    "ax = plt.plot(hist.history['loss'])"
   ]
  },
  {
   "cell_type": "code",
   "execution_count": null,
   "metadata": {
    "collapsed": false
   },
   "outputs": [],
   "source": [
    "eval_gen = model.evaluate_generator(train_flow, train_flow.n, workers=4)\n",
    "eval_gen"
   ]
  },
  {
   "cell_type": "code",
   "execution_count": null,
   "metadata": {
    "collapsed": false
   },
   "outputs": [],
   "source": [
    "eval_train = model.evaluate(images, drv_log['steer'], verbose=0)\n",
    "eval_train"
   ]
  },
  {
   "cell_type": "code",
   "execution_count": null,
   "metadata": {
    "collapsed": false
   },
   "outputs": [],
   "source": [
    "pred = model.predict(images)"
   ]
  },
  {
   "cell_type": "code",
   "execution_count": null,
   "metadata": {
    "collapsed": false
   },
   "outputs": [],
   "source": [
    "result = pd.DataFrame(np.stack((drv_log['steer'], np.squeeze(pred)), axis=-1), columns=['real', 'pred'])"
   ]
  },
  {
   "cell_type": "code",
   "execution_count": null,
   "metadata": {
    "collapsed": false
   },
   "outputs": [],
   "source": [
    "ax = sns.kdeplot(result['real'], shade=True, color=\"r\")\n",
    "ax = sns.kdeplot(result['pred'], shade=True, color=\"b\")"
   ]
  },
  {
   "cell_type": "code",
   "execution_count": null,
   "metadata": {
    "collapsed": false
   },
   "outputs": [],
   "source": [
    "if not os.path.exists(model_dir):\n",
    "    os.makedirs(model_dir)\n",
    "\n",
    "model_json = model.to_json()\n",
    "with open(path.join(model_dir, \"model.json\"), \"w\") as json_file:\n",
    "    json_file.write(model_json)\n",
    "\n",
    "model.save_weights(path.join(model_dir, \"model.h5\"))\n",
    "print(\"Saved model to disk\")"
   ]
  },
  {
   "cell_type": "code",
   "execution_count": null,
   "metadata": {
    "collapsed": true
   },
   "outputs": [],
   "source": []
  }
 ],
 "metadata": {
  "kernelspec": {
   "display_name": "Python 3",
   "language": "python",
   "name": "python3"
  },
  "language_info": {
   "codemirror_mode": {
    "name": "ipython",
    "version": 3
   },
   "file_extension": ".py",
   "mimetype": "text/x-python",
   "name": "python",
   "nbconvert_exporter": "python",
   "pygments_lexer": "ipython3",
   "version": "3.5.2"
  },
  "widgets": {
   "state": {
    "16b1a740ba4e43a7a8ad780d69ead6b5": {
     "views": [
      {
       "cell_index": 17
      }
     ]
    },
    "1aeb41a772d347bb84f087097c349800": {
     "views": [
      {
       "cell_index": 17
      }
     ]
    },
    "1d07275885c3490987e6303bda0a7939": {
     "views": [
      {
       "cell_index": 16
      }
     ]
    },
    "2cae7187530f45d0b52f4ab2f5cbcdb6": {
     "views": [
      {
       "cell_index": 16
      }
     ]
    },
    "2e1f6e3155cc46138d7817125ddcfa89": {
     "views": [
      {
       "cell_index": 17
      }
     ]
    },
    "31e071ac8f2844efb35911fe87e87bf9": {
     "views": [
      {
       "cell_index": 16
      }
     ]
    },
    "321bec1b6ab1443f9fc05c2eeaf99654": {
     "views": [
      {
       "cell_index": 16
      }
     ]
    },
    "3aeb57263dd54230a90cdd6b4cf3e690": {
     "views": [
      {
       "cell_index": 17
      }
     ]
    },
    "3cea831e2c94460cbcf5bdbe7144fa7d": {
     "views": [
      {
       "cell_index": 17
      }
     ]
    },
    "46e01b0b2055424a897e308a06802d30": {
     "views": [
      {
       "cell_index": 17
      }
     ]
    },
    "49ca460266cb48f39806924e8160cc43": {
     "views": [
      {
       "cell_index": 16
      }
     ]
    },
    "4b37a7eb43e24c4e96c1418e535b4013": {
     "views": [
      {
       "cell_index": 16
      }
     ]
    },
    "4f8b8016801a4848a386598a7f3fbba9": {
     "views": [
      {
       "cell_index": 17
      }
     ]
    },
    "5492c1398247412194b458ab49b9163d": {
     "views": [
      {
       "cell_index": 19
      }
     ]
    },
    "5544010f54fa4153b6d35b00f579b56e": {
     "views": [
      {
       "cell_index": 16
      }
     ]
    },
    "573bd38cd26a4c4f8eda39d1141a7945": {
     "views": [
      {
       "cell_index": 16
      }
     ]
    },
    "596561fa11fa417f9600b6968fa83842": {
     "views": [
      {
       "cell_index": 17
      }
     ]
    },
    "5f22411d19ae4ab48d7f3bbde4b39859": {
     "views": [
      {
       "cell_index": 16
      }
     ]
    },
    "6fd8d9578bf9462a89eece73199c1cf6": {
     "views": [
      {
       "cell_index": 16
      }
     ]
    },
    "725a593c6d194783bfb4fe67ed1e76b9": {
     "views": [
      {
       "cell_index": 16
      }
     ]
    },
    "74bd10de5f8c44fa8541e9d9d662f35f": {
     "views": [
      {
       "cell_index": 16
      }
     ]
    },
    "78d4f72acb584fa889d877a10888b584": {
     "views": [
      {
       "cell_index": 17
      }
     ]
    },
    "8d028a1661234dae8c623a3906fed533": {
     "views": [
      {
       "cell_index": 17
      }
     ]
    },
    "91fbf056e0134fb79947683f614b60d8": {
     "views": [
      {
       "cell_index": 16
      }
     ]
    },
    "94b18f5ff034467d956206472b254360": {
     "views": [
      {
       "cell_index": 16
      }
     ]
    },
    "959ff0e76d494609a8f21dac9491f68b": {
     "views": [
      {
       "cell_index": 16
      }
     ]
    },
    "9af8ec9001fe4a2b945c7d1c2e84c661": {
     "views": [
      {
       "cell_index": 16
      }
     ]
    },
    "9ba449d6090142bf97f74551c7adb0ff": {
     "views": [
      {
       "cell_index": 16
      }
     ]
    },
    "9cf7cc7410e5407c94e3cf140922d32f": {
     "views": [
      {
       "cell_index": 16
      }
     ]
    },
    "9f084ce7b4864f9d88fac0ab16083170": {
     "views": [
      {
       "cell_index": 16
      }
     ]
    },
    "aaf29c74798943c3a318f7e47a2892ce": {
     "views": [
      {
       "cell_index": 17
      }
     ]
    },
    "acc377a1a94e4b2098eed2b15bacae95": {
     "views": [
      {
       "cell_index": 16
      }
     ]
    },
    "bb7386b741b741e783beebf1eacc9e3c": {
     "views": [
      {
       "cell_index": 16
      }
     ]
    },
    "c6cc6381027f467cb82c5c16cc7326ab": {
     "views": [
      {
       "cell_index": 16
      }
     ]
    },
    "c9a16a289b8140b7a9e791c08260ef6f": {
     "views": [
      {
       "cell_index": 17
      }
     ]
    },
    "d45f97b0ccd244daa124b2f7d4994e75": {
     "views": [
      {
       "cell_index": 16
      }
     ]
    },
    "d9b0a53b292e44f4b1fdd4302af17146": {
     "views": [
      {
       "cell_index": 16
      }
     ]
    },
    "df35219a0b7d45d9ae5c38609c396b30": {
     "views": [
      {
       "cell_index": 16
      }
     ]
    },
    "e27d226a983843a38b57b85e6666b5b8": {
     "views": [
      {
       "cell_index": 17
      }
     ]
    },
    "f24b1b74b1c24b3bb79709dc907062ef": {
     "views": [
      {
       "cell_index": 17
      }
     ]
    },
    "fbaadc9b98f4480087edba4d1ff2c194": {
     "views": [
      {
       "cell_index": 17
      }
     ]
    }
   },
   "version": "1.2.0"
  }
 },
 "nbformat": 4,
 "nbformat_minor": 2
}
