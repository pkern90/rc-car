{
 "cells": [
  {
   "cell_type": "code",
   "execution_count": 1,
   "metadata": {
    "ExecuteTime": {
     "end_time": "2017-07-27T11:42:09.436744",
     "start_time": "2017-07-27T11:42:08.684326"
    },
    "collapsed": true
   },
   "outputs": [],
   "source": [
    "import numpy as np\n",
    "import matplotlib.pyplot as plt\n",
    "from glob import glob\n",
    "from skimage.io import imread\n",
    "from os import path\n",
    "import os\n",
    "import pandas as pd\n",
    "import pickle\n",
    "\n",
    "import seaborn as sns; sns.set(color_codes=True)\n",
    "\n",
    "%matplotlib inline"
   ]
  },
  {
   "cell_type": "markdown",
   "metadata": {},
   "source": [
    "# Data"
   ]
  },
  {
   "cell_type": "code",
   "execution_count": 2,
   "metadata": {
    "ExecuteTime": {
     "end_time": "2017-07-27T11:42:09.441674",
     "start_time": "2017-07-27T11:42:09.438114"
    },
    "collapsed": true
   },
   "outputs": [],
   "source": [
    "model_dir = path.join(\"models\", \"model2\")\n",
    "log_dir = path.join(\"data\", \"rec01\")\n",
    "img_dir = path.join(log_dir, \"img\")\n",
    "\n",
    "img_w, img_h, img_ch = 320, 240, 1"
   ]
  },
  {
   "cell_type": "code",
   "execution_count": 3,
   "metadata": {
    "ExecuteTime": {
     "end_time": "2017-07-27T11:42:09.450154",
     "start_time": "2017-07-27T11:42:09.442801"
    },
    "collapsed": false
   },
   "outputs": [],
   "source": [
    "drv_log = pd.read_csv(path.join(log_dir, \"log.csv\"), names=['img', 'speed', 'steer'])"
   ]
  },
  {
   "cell_type": "code",
   "execution_count": 4,
   "metadata": {
    "ExecuteTime": {
     "end_time": "2017-07-27T11:42:09.464476",
     "start_time": "2017-07-27T11:42:09.451309"
    },
    "collapsed": false
   },
   "outputs": [
    {
     "data": {
      "text/html": [
       "<div>\n",
       "<style>\n",
       "    .dataframe thead tr:only-child th {\n",
       "        text-align: right;\n",
       "    }\n",
       "\n",
       "    .dataframe thead th {\n",
       "        text-align: left;\n",
       "    }\n",
       "\n",
       "    .dataframe tbody tr th {\n",
       "        vertical-align: top;\n",
       "    }\n",
       "</style>\n",
       "<table border=\"1\" class=\"dataframe\">\n",
       "  <thead>\n",
       "    <tr style=\"text-align: right;\">\n",
       "      <th></th>\n",
       "      <th>img</th>\n",
       "      <th>speed</th>\n",
       "      <th>steer</th>\n",
       "    </tr>\n",
       "  </thead>\n",
       "  <tbody>\n",
       "    <tr>\n",
       "      <th>0</th>\n",
       "      <td>img_20170725_13_00_46_397840Z.jpg</td>\n",
       "      <td>100</td>\n",
       "      <td>0.070193</td>\n",
       "    </tr>\n",
       "    <tr>\n",
       "      <th>1</th>\n",
       "      <td>img_20170725_13_00_46_436273Z.jpg</td>\n",
       "      <td>100</td>\n",
       "      <td>0.070193</td>\n",
       "    </tr>\n",
       "    <tr>\n",
       "      <th>2</th>\n",
       "      <td>img_20170725_13_00_46_473557Z.jpg</td>\n",
       "      <td>100</td>\n",
       "      <td>-0.011780</td>\n",
       "    </tr>\n",
       "    <tr>\n",
       "      <th>3</th>\n",
       "      <td>img_20170725_13_00_46_513400Z.jpg</td>\n",
       "      <td>100</td>\n",
       "      <td>-0.640675</td>\n",
       "    </tr>\n",
       "    <tr>\n",
       "      <th>4</th>\n",
       "      <td>img_20170725_13_00_46_553304Z.jpg</td>\n",
       "      <td>100</td>\n",
       "      <td>-0.132878</td>\n",
       "    </tr>\n",
       "  </tbody>\n",
       "</table>\n",
       "</div>"
      ],
      "text/plain": [
       "                                 img  speed     steer\n",
       "0  img_20170725_13_00_46_397840Z.jpg    100  0.070193\n",
       "1  img_20170725_13_00_46_436273Z.jpg    100  0.070193\n",
       "2  img_20170725_13_00_46_473557Z.jpg    100 -0.011780\n",
       "3  img_20170725_13_00_46_513400Z.jpg    100 -0.640675\n",
       "4  img_20170725_13_00_46_553304Z.jpg    100 -0.132878"
      ]
     },
     "execution_count": 4,
     "metadata": {},
     "output_type": "execute_result"
    }
   ],
   "source": [
    "drv_log.head()"
   ]
  },
  {
   "cell_type": "code",
   "execution_count": 5,
   "metadata": {
    "ExecuteTime": {
     "end_time": "2017-07-27T11:42:09.472612",
     "start_time": "2017-07-27T11:42:09.465708"
    },
    "collapsed": false
   },
   "outputs": [
    {
     "name": "stdout",
     "output_type": "stream",
     "text": [
      "<class 'pandas.core.frame.DataFrame'>\n",
      "RangeIndex: 196 entries, 0 to 195\n",
      "Data columns (total 3 columns):\n",
      "img      196 non-null object\n",
      "speed    196 non-null int64\n",
      "steer    196 non-null float64\n",
      "dtypes: float64(1), int64(1), object(1)\n",
      "memory usage: 4.7+ KB\n"
     ]
    }
   ],
   "source": [
    "drv_log.info()"
   ]
  },
  {
   "cell_type": "code",
   "execution_count": 6,
   "metadata": {
    "ExecuteTime": {
     "end_time": "2017-07-27T11:42:09.489198",
     "start_time": "2017-07-27T11:42:09.473947"
    },
    "collapsed": false
   },
   "outputs": [
    {
     "data": {
      "text/html": [
       "<div>\n",
       "<style>\n",
       "    .dataframe thead tr:only-child th {\n",
       "        text-align: right;\n",
       "    }\n",
       "\n",
       "    .dataframe thead th {\n",
       "        text-align: left;\n",
       "    }\n",
       "\n",
       "    .dataframe tbody tr th {\n",
       "        vertical-align: top;\n",
       "    }\n",
       "</style>\n",
       "<table border=\"1\" class=\"dataframe\">\n",
       "  <thead>\n",
       "    <tr style=\"text-align: right;\">\n",
       "      <th></th>\n",
       "      <th>speed</th>\n",
       "      <th>steer</th>\n",
       "    </tr>\n",
       "  </thead>\n",
       "  <tbody>\n",
       "    <tr>\n",
       "      <th>count</th>\n",
       "      <td>196.0</td>\n",
       "      <td>196.000000</td>\n",
       "    </tr>\n",
       "    <tr>\n",
       "      <th>mean</th>\n",
       "      <td>100.0</td>\n",
       "      <td>0.271016</td>\n",
       "    </tr>\n",
       "    <tr>\n",
       "      <th>std</th>\n",
       "      <td>0.0</td>\n",
       "      <td>0.560342</td>\n",
       "    </tr>\n",
       "    <tr>\n",
       "      <th>min</th>\n",
       "      <td>100.0</td>\n",
       "      <td>-1.000031</td>\n",
       "    </tr>\n",
       "    <tr>\n",
       "      <th>25%</th>\n",
       "      <td>100.0</td>\n",
       "      <td>-0.003967</td>\n",
       "    </tr>\n",
       "    <tr>\n",
       "      <th>50%</th>\n",
       "      <td>100.0</td>\n",
       "      <td>0.042848</td>\n",
       "    </tr>\n",
       "    <tr>\n",
       "      <th>75%</th>\n",
       "      <td>100.0</td>\n",
       "      <td>1.000000</td>\n",
       "    </tr>\n",
       "    <tr>\n",
       "      <th>max</th>\n",
       "      <td>100.0</td>\n",
       "      <td>1.000000</td>\n",
       "    </tr>\n",
       "  </tbody>\n",
       "</table>\n",
       "</div>"
      ],
      "text/plain": [
       "       speed       steer\n",
       "count  196.0  196.000000\n",
       "mean   100.0    0.271016\n",
       "std      0.0    0.560342\n",
       "min    100.0   -1.000031\n",
       "25%    100.0   -0.003967\n",
       "50%    100.0    0.042848\n",
       "75%    100.0    1.000000\n",
       "max    100.0    1.000000"
      ]
     },
     "execution_count": 6,
     "metadata": {},
     "output_type": "execute_result"
    }
   ],
   "source": [
    "drv_log.describe()"
   ]
  },
  {
   "cell_type": "code",
   "execution_count": 7,
   "metadata": {
    "ExecuteTime": {
     "end_time": "2017-07-27T11:42:09.656437",
     "start_time": "2017-07-27T11:42:09.490565"
    },
    "collapsed": false
   },
   "outputs": [
    {
     "data": {
      "image/png": "[encoded data removed]",
      "text/plain": [
       "<matplotlib.figure.Figure at 0x7f5a2c1c79b0>"
      ]
     },
     "metadata": {},
     "output_type": "display_data"
    }
   ],
   "source": [
    "ax = sns.kdeplot(drv_log['steer'], shade=True, color=\"r\")"
   ]
  },
  {
   "cell_type": "code",
   "execution_count": 8,
   "metadata": {
    "ExecuteTime": {
     "end_time": "2017-07-27T11:42:10.308473",
     "start_time": "2017-07-27T11:42:09.657752"
    },
    "collapsed": false
   },
   "outputs": [],
   "source": [
    "images = np.zeros((len(drv_log), img_h, img_w, img_ch))\n",
    "for i, img_name in enumerate(drv_log['img']):\n",
    "    img = imread(path.join(img_dir, img_name))\n",
    "    img = np.mean(img, -1)\n",
    "    images[i] = np.expand_dims(img, -1)"
   ]
  },
  {
   "cell_type": "code",
   "execution_count": 9,
   "metadata": {
    "ExecuteTime": {
     "end_time": "2017-07-27T11:42:10.479526",
     "start_time": "2017-07-27T11:42:10.309791"
    },
    "collapsed": false
   },
   "outputs": [
    {
     "data": {
      "text/plain": [
       "<matplotlib.image.AxesImage at 0x7f5a235514e0>"
      ]
     },
     "execution_count": 9,
     "metadata": {},
     "output_type": "execute_result"
    },
    {
     "data": {
      "image/png": "[encoded data removed]",
      "text/plain": [
       "<matplotlib.figure.Figure at 0x7f5a2c0d7a90>"
      ]
     },
     "metadata": {},
     "output_type": "display_data"
    }
   ],
   "source": [
    "plt.imshow(images[0,:,::-1,0], cmap='gray')"
   ]
  },
  {
   "cell_type": "markdown",
   "metadata": {},
   "source": [
    "# Model"
   ]
  },
  {
   "cell_type": "code",
   "execution_count": 10,
   "metadata": {
    "ExecuteTime": {
     "end_time": "2017-07-27T11:42:28.217398",
     "start_time": "2017-07-27T11:42:10.481001"
    },
    "collapsed": false,
    "scrolled": true
   },
   "outputs": [
    {
     "name": "stderr",
     "output_type": "stream",
     "text": [
      "Using TensorFlow backend.\n"
     ]
    }
   ],
   "source": [
    "from keras.models import Sequential\n",
    "from keras.layers import Lambda, Input, Dense, Conv2D, ELU, Activation, BatchNormalization, Dropout, Flatten\n",
    "from keras.optimizers import Adam\n",
    "from keras.preprocessing.image import ImageDataGenerator\n",
    "from keras_tqdm import TQDMNotebookCallback\n",
    "from utils import RegressionImageDataGenerator"
   ]
  },
  {
   "cell_type": "code",
   "execution_count": 11,
   "metadata": {
    "ExecuteTime": {
     "end_time": "2017-07-27T11:42:28.602580",
     "start_time": "2017-07-27T11:42:28.218677"
    },
    "collapsed": false
   },
   "outputs": [],
   "source": [
    "model = Sequential([\n",
    "    Conv2D(16, 8, strides=(4, 4), padding=\"same\", input_shape=(img_h, img_w, img_ch)),\n",
    "    BatchNormalization(),\n",
    "    Activation('relu'),\n",
    "    Conv2D(32, 3, padding=\"same\"),\n",
    "    BatchNormalization(),\n",
    "    Activation('relu'),\n",
    "    Conv2D(32, 3, strides=(2, 2), padding=\"same\"),\n",
    "    BatchNormalization(),\n",
    "    Activation('relu'),\n",
    "    Conv2D(64, 3, padding=\"same\"),\n",
    "    BatchNormalization(),\n",
    "    Activation('relu'),\n",
    "    Conv2D(64, 3, strides=(2, 2), padding=\"same\"),\n",
    "    BatchNormalization(),\n",
    "    Conv2D(128, 3, padding=\"same\"),\n",
    "    BatchNormalization(),\n",
    "    Activation('relu'),\n",
    "    Conv2D(128, 3, strides=(2, 2), padding=\"same\"),\n",
    "    BatchNormalization(),\n",
    "    Activation('relu'),\n",
    "    \n",
    "    Flatten(),\n",
    "    Dropout(0.2),\n",
    "    Dense(512),\n",
    "    BatchNormalization(),\n",
    "    Activation('relu'),\n",
    "    Dropout(0.5),\n",
    "    Dense(1, activation='tanh')\n",
    "])\n",
    "\n",
    "opt = Adam(lr=0.0001)\n",
    "model.compile(optimizer=opt, loss=\"mse\")"
   ]
  },
  {
   "cell_type": "code",
   "execution_count": 12,
   "metadata": {
    "ExecuteTime": {
     "end_time": "2017-07-27T11:42:28.616938",
     "start_time": "2017-07-27T11:42:28.604065"
    },
    "collapsed": false,
    "scrolled": true
   },
   "outputs": [
    {
     "name": "stdout",
     "output_type": "stream",
     "text": [
      "_________________________________________________________________\n",
      "Layer (type)                 Output Shape              Param #   \n",
      "=================================================================\n",
      "conv2d_1 (Conv2D)            (None, 60, 80, 16)        1040      \n",
      "_________________________________________________________________\n",
      "batch_normalization_1 (Batch (None, 60, 80, 16)        64        \n",
      "_________________________________________________________________\n",
      "activation_1 (Activation)    (None, 60, 80, 16)        0         \n",
      "_________________________________________________________________\n",
      "conv2d_2 (Conv2D)            (None, 60, 80, 32)        4640      \n",
      "_________________________________________________________________\n",
      "batch_normalization_2 (Batch (None, 60, 80, 32)        128       \n",
      "_________________________________________________________________\n",
      "activation_2 (Activation)    (None, 60, 80, 32)        0         \n",
      "_________________________________________________________________\n",
      "conv2d_3 (Conv2D)            (None, 30, 40, 32)        9248      \n",
      "_________________________________________________________________\n",
      "batch_normalization_3 (Batch (None, 30, 40, 32)        128       \n",
      "_________________________________________________________________\n",
      "activation_3 (Activation)    (None, 30, 40, 32)        0         \n",
      "_________________________________________________________________\n",
      "conv2d_4 (Conv2D)            (None, 30, 40, 64)        18496     \n",
      "_________________________________________________________________\n",
      "batch_normalization_4 (Batch (None, 30, 40, 64)        256       \n",
      "_________________________________________________________________\n",
      "activation_4 (Activation)    (None, 30, 40, 64)        0         \n",
      "_________________________________________________________________\n",
      "conv2d_5 (Conv2D)            (None, 15, 20, 64)        36928     \n",
      "_________________________________________________________________\n",
      "batch_normalization_5 (Batch (None, 15, 20, 64)        256       \n",
      "_________________________________________________________________\n",
      "conv2d_6 (Conv2D)            (None, 15, 20, 128)       73856     \n",
      "_________________________________________________________________\n",
      "batch_normalization_6 (Batch (None, 15, 20, 128)       512       \n",
      "_________________________________________________________________\n",
      "activation_5 (Activation)    (None, 15, 20, 128)       0         \n",
      "_________________________________________________________________\n",
      "conv2d_7 (Conv2D)            (None, 8, 10, 128)        147584    \n",
      "_________________________________________________________________\n",
      "batch_normalization_7 (Batch (None, 8, 10, 128)        512       \n",
      "_________________________________________________________________\n",
      "activation_6 (Activation)    (None, 8, 10, 128)        0         \n",
      "_________________________________________________________________\n",
      "flatten_1 (Flatten)          (None, 10240)             0         \n",
      "_________________________________________________________________\n",
      "dropout_1 (Dropout)          (None, 10240)             0         \n",
      "_________________________________________________________________\n",
      "dense_1 (Dense)              (None, 512)               5243392   \n",
      "_________________________________________________________________\n",
      "batch_normalization_8 (Batch (None, 512)               2048      \n",
      "_________________________________________________________________\n",
      "activation_7 (Activation)    (None, 512)               0         \n",
      "_________________________________________________________________\n",
      "dropout_2 (Dropout)          (None, 512)               0         \n",
      "_________________________________________________________________\n",
      "dense_2 (Dense)              (None, 1)                 513       \n",
      "=================================================================\n",
      "Total params: 5,539,601\n",
      "Trainable params: 5,537,649\n",
      "Non-trainable params: 1,952\n",
      "_________________________________________________________________\n"
     ]
    }
   ],
   "source": [
    "model.summary()"
   ]
  },
  {
   "cell_type": "code",
   "execution_count": 13,
   "metadata": {
    "ExecuteTime": {
     "end_time": "2017-07-27T11:42:28.622821",
     "start_time": "2017-07-27T11:42:28.618176"
    },
    "collapsed": true
   },
   "outputs": [],
   "source": [
    "SHIFT_OFFSET = 0.2\n",
    "SHIFT_RANGE = 0.2\n",
    "\n",
    "datagen = RegressionImageDataGenerator(horizontal_flip=True,\n",
    "                                       horizontal_flip_value_transform=lambda val: -val,\n",
    "                                       channel_shift_range=0.2,\n",
    "                                       width_shift_range=SHIFT_RANGE,\n",
    "                                       width_shift_value_transform=lambda val, shift: val - (\n",
    "                                           (SHIFT_OFFSET / SHIFT_RANGE) * shift))"
   ]
  },
  {
   "cell_type": "code",
   "execution_count": 14,
   "metadata": {
    "ExecuteTime": {
     "end_time": "2017-07-27T11:42:28.673181",
     "start_time": "2017-07-27T11:42:28.624243"
    },
    "collapsed": true
   },
   "outputs": [],
   "source": [
    "x_train = images * 2 - 1\n",
    "y_train = drv_log['steer']"
   ]
  },
  {
   "cell_type": "code",
   "execution_count": 15,
   "metadata": {
    "ExecuteTime": {
     "end_time": "2017-07-27T11:42:28.678424",
     "start_time": "2017-07-27T11:42:28.675963"
    },
    "collapsed": false
   },
   "outputs": [],
   "source": [
    "gen = datagen.flow(x_train, y_train, batch_size=128)"
   ]
  },
  {
   "cell_type": "code",
   "execution_count": 16,
   "metadata": {
    "ExecuteTime": {
     "end_time": "2017-07-27T11:42:28.690652",
     "start_time": "2017-07-27T11:42:28.679858"
    },
    "collapsed": true
   },
   "outputs": [],
   "source": [
    "def create_dataset_from_gen(gen, data_dir, file, batches):\n",
    "    size = batches * gen.batch_size\n",
    "    x = np.zeros((0, *gen.X.shape[1:]))\n",
    "    y = np.zeros((0, ))\n",
    "    \n",
    "    for i, (x_batch, y_batch) in enumerate(gen):\n",
    "        x = np.append(x, x_batch, axis=0)\n",
    "        y = np.append(y, y_batch, axis=0)\n",
    "        \n",
    "        if i >= batches:\n",
    "            break\n",
    "    \n",
    "    if not os.path.exists(data_dir):\n",
    "        os.makedirs(data_dir)\n",
    "    \n",
    "    with open(path.join(data_dir, file), 'wb') as f:\n",
    "        pickle.dump((x, y), f, pickle.HIGHEST_PROTOCOL)"
   ]
  },
  {
   "cell_type": "code",
   "execution_count": 17,
   "metadata": {
    "ExecuteTime": {
     "end_time": "2017-07-27T11:42:28.700328",
     "start_time": "2017-07-27T11:42:28.691983"
    },
    "collapsed": false,
    "scrolled": true
   },
   "outputs": [],
   "source": [
    "#create_dataset_from_gen(gen, 'data', 'sample.p', 100)"
   ]
  },
  {
   "cell_type": "code",
   "execution_count": 18,
   "metadata": {
    "ExecuteTime": {
     "end_time": "2017-07-27T11:42:29.852798",
     "start_time": "2017-07-27T11:42:28.701667"
    },
    "collapsed": false
   },
   "outputs": [],
   "source": [
    "with open(path.join('data', 'sample.p'), 'rb') as f:\n",
    "    data = pickle.load(f)"
   ]
  },
  {
   "cell_type": "code",
   "execution_count": 19,
   "metadata": {
    "ExecuteTime": {
     "end_time": "2017-07-27T11:42:29.861122",
     "start_time": "2017-07-27T11:42:29.855490"
    },
    "collapsed": true
   },
   "outputs": [],
   "source": [
    "x_train, y_train = data"
   ]
  },
  {
   "cell_type": "code",
   "execution_count": 20,
   "metadata": {
    "ExecuteTime": {
     "end_time": "2017-07-27T11:42:30.058453",
     "start_time": "2017-07-27T11:42:29.862540"
    },
    "collapsed": false,
    "scrolled": true
   },
   "outputs": [
    {
     "data": {
      "text/plain": [
       "<matplotlib.image.AxesImage at 0x7f59f135f080>"
      ]
     },
     "execution_count": 20,
     "metadata": {},
     "output_type": "execute_result"
    },
    {
     "data": {
      "image/png": "[encoded data removed]",
      "text/plain": [
       "<matplotlib.figure.Figure at 0x7f59f134b0b8>"
      ]
     },
     "metadata": {},
     "output_type": "display_data"
    }
   ],
   "source": [
    "plt.imshow(x_train[0, :, :, 0], cmap='gray')"
   ]
  },
  {
   "cell_type": "code",
   "execution_count": 21,
   "metadata": {
    "ExecuteTime": {
     "end_time": "2017-07-27T11:43:29.250015",
     "start_time": "2017-07-27T11:42:30.061073"
    },
    "collapsed": false
   },
   "outputs": [
    {
     "name": "stdout",
     "output_type": "stream",
     "text": [
      "\n"
     ]
    }
   ],
   "source": [
    "hist = model.fit(x_train, y_train,\n",
    "                 epochs=10, verbose=0, batch_size=64,\n",
    "                 callbacks=[TQDMNotebookCallback()])"
   ]
  },
  {
   "cell_type": "code",
   "execution_count": 22,
   "metadata": {
    "ExecuteTime": {
     "end_time": "2017-07-27T11:43:29.389301",
     "start_time": "2017-07-27T11:43:29.251466"
    },
    "collapsed": false,
    "scrolled": true
   },
   "outputs": [
    {
     "data": {
      "image/png": "[encoded data removed]",
      "text/plain": [
       "<matplotlib.figure.Figure at 0x7f59ea0433c8>"
      ]
     },
     "metadata": {},
     "output_type": "display_data"
    }
   ],
   "source": [
    "ax = plt.plot(hist.history['loss'])"
   ]
  },
  {
   "cell_type": "code",
   "execution_count": 23,
   "metadata": {
    "ExecuteTime": {
     "end_time": "2017-07-27T11:43:44.540184",
     "start_time": "2017-07-27T11:43:29.390513"
    },
    "collapsed": false
   },
   "outputs": [
    {
     "data": {
      "text/plain": [
       "1.2871375102656228"
      ]
     },
     "execution_count": 23,
     "metadata": {},
     "output_type": "execute_result"
    }
   ],
   "source": [
    "eval_gen = model.evaluate_generator(gen, 100, workers=4)\n",
    "eval_gen"
   ]
  },
  {
   "cell_type": "code",
   "execution_count": 24,
   "metadata": {
    "ExecuteTime": {
     "end_time": "2017-07-27T11:43:47.638490",
     "start_time": "2017-07-27T11:43:44.542016"
    },
    "collapsed": false
   },
   "outputs": [
    {
     "data": {
      "text/plain": [
       "0.14340449017108592"
      ]
     },
     "execution_count": 24,
     "metadata": {},
     "output_type": "execute_result"
    }
   ],
   "source": [
    "eval_train = model.evaluate(x_train, y_train, verbose=0)\n",
    "eval_train"
   ]
  },
  {
   "cell_type": "code",
   "execution_count": 25,
   "metadata": {
    "ExecuteTime": {
     "end_time": "2017-07-27T11:43:50.669341",
     "start_time": "2017-07-27T11:43:47.640841"
    },
    "collapsed": false
   },
   "outputs": [],
   "source": [
    "pred = model.predict(x_train)"
   ]
  },
  {
   "cell_type": "code",
   "execution_count": 26,
   "metadata": {
    "ExecuteTime": {
     "end_time": "2017-07-27T11:43:50.674280",
     "start_time": "2017-07-27T11:43:50.670902"
    },
    "collapsed": false
   },
   "outputs": [],
   "source": [
    "result = pd.DataFrame(np.stack((y_train, np.squeeze(pred)), axis=-1), columns=['real', 'pred'])"
   ]
  },
  {
   "cell_type": "code",
   "execution_count": 27,
   "metadata": {
    "ExecuteTime": {
     "end_time": "2017-07-27T11:43:50.937612",
     "start_time": "2017-07-27T11:43:50.676092"
    },
    "collapsed": false
   },
   "outputs": [
    {
     "data": {
      "image/png": "[encoded data removed]",
      "text/plain": [
       "<matplotlib.figure.Figure at 0x7f59e83c6be0>"
      ]
     },
     "metadata": {},
     "output_type": "display_data"
    }
   ],
   "source": [
    "ax = sns.kdeplot(result['real'], shade=True, color=\"r\")\n",
    "ax = sns.kdeplot(result['pred'], shade=True, color=\"b\")"
   ]
  },
  {
   "cell_type": "code",
   "execution_count": 28,
   "metadata": {
    "ExecuteTime": {
     "end_time": "2017-07-27T11:43:51.148057",
     "start_time": "2017-07-27T11:43:50.939785"
    },
    "collapsed": false
   },
   "outputs": [
    {
     "name": "stdout",
     "output_type": "stream",
     "text": [
      "Saved model to disk\n"
     ]
    }
   ],
   "source": [
    "if not os.path.exists(model_dir):\n",
    "    os.makedirs(model_dir)\n",
    "\n",
    "model_json = model.to_json()\n",
    "with open(path.join(model_dir, \"model.json\"), \"w\") as json_file:\n",
    "    json_file.write(model_json)\n",
    "\n",
    "model.save_weights(path.join(model_dir, \"model.h5\"))\n",
    "print(\"Saved model to disk\")"
   ]
  },
  {
   "cell_type": "code",
   "execution_count": null,
   "metadata": {
    "collapsed": true
   },
   "outputs": [],
   "source": []
  }
 ],
 "metadata": {
  "kernelspec": {
   "display_name": "Python 3",
   "language": "python",
   "name": "python3"
  },
  "language_info": {
   "codemirror_mode": {
    "name": "ipython",
    "version": 3
   },
   "file_extension": ".py",
   "mimetype": "text/x-python",
   "name": "python",
   "nbconvert_exporter": "python",
   "pygments_lexer": "ipython3",
   "version": "3.5.2"
  },
  "widgets": {
   "state": {
    "15d2b8b06fe04cc89e461e3a0d95b0bf": {
     "views": [
      {
       "cell_index": 22
      }
     ]
    },
    "1b0109f66f104ca6b714ca091670a4da": {
     "views": [
      {
       "cell_index": 22
      }
     ]
    },
    "27f2e5b717684ec28bafc04d40c77543": {
     "views": [
      {
       "cell_index": 22
      }
     ]
    },
    "47d978c5537b45b0b1d319be9892cff2": {
     "views": [
      {
       "cell_index": 22
      }
     ]
    },
    "67e11d6b4b56486aa6f21823ac349021": {
     "views": [
      {
       "cell_index": 22
      }
     ]
    },
    "74e744cd84de4517b84039e106dcca7a": {
     "views": [
      {
       "cell_index": 22
      }
     ]
    },
    "b4d9e41d2c71417180c7a3acdfc9546a": {
     "views": [
      {
       "cell_index": 22
      }
     ]
    },
    "b51a4c82b8df489d9a8fb97df908739e": {
     "views": [
      {
       "cell_index": 22
      }
     ]
    },
    "e2702824a17047f99e0481bd0b145359": {
     "views": [
      {
       "cell_index": 22
      }
     ]
    },
    "f5578a9c7a994bf0a7a9a50cc917e4ad": {
     "views": [
      {
       "cell_index": 22
      }
     ]
    },
    "fd628413e8a04a66a903f820dfc7a480": {
     "views": [
      {
       "cell_index": 22
      }
     ]
    }
   },
   "version": "1.2.0"
  }
 },
 "nbformat": 4,
 "nbformat_minor": 2
}
